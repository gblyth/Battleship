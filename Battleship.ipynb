{
 "cells": [
  {
   "cell_type": "code",
   "execution_count": 1,
   "metadata": {},
   "outputs": [],
   "source": [
    "class Battleship(object):\n",
    "    def __init__(self):\n",
    "        self.board=[]\n",
    "        self.row=5\n",
    "        self.column=5\n",
    "        self.ship=[]\n",
    "        self.shipspots=0\n",
    "        self.shiphits=0\n",
    "    def makeBoard(self):\n",
    "        for i in range(0,self.row):\n",
    "            self.board.append([])\n",
    "            self.ship.append([])\n",
    "            for j in range(0,self.column):\n",
    "                self.board[i].append(\"O\")\n",
    "                self.ship[i].append(\"O\")\n",
    "    def printBoard(self):\n",
    "        for i in range(0,self.row):\n",
    "            print(self.board[i])\n",
    "    def printShip(self):\n",
    "        for i in range(0,self.row):\n",
    "            print(self.ship[i])\n",
    "    def changeBoard(self,x,y):\n",
    "        self.board[y][x]=\"X\"\n",
    "    def makeShip(self):  \n",
    "        print(\"make a ship:\")\n",
    "        x=input(\"input x:\")\n",
    "        while(x.isdigit()==False):\n",
    "            print(\"enter an integer value for x\")\n",
    "            x=input(\"input x:\")\n",
    "        x=int(x)\n",
    "        \n",
    "        y=input(\"input y:\")\n",
    "        while(y.isdigit()==False):\n",
    "            print(\"enter an integer value for y\")\n",
    "            y=input(\"input y:\")\n",
    "        y=int(y)\n",
    "        \n",
    "        size=input(\"input size:\")\n",
    "        while(size.isdigit()==False):\n",
    "            print(\"enter an integer value for size\")\n",
    "            size=input(\"input size:\")\n",
    "        size=int(size)\n",
    "        \n",
    "        orientation=input(\"input orientation:\")\n",
    "        while(orientation.isdigit()==False):\n",
    "            print(\"enter an integer value for orientation\")\n",
    "            orientation=input(\"input orientation:\")\n",
    "        orientation=int(orientation)\n",
    "\n",
    "        if (orientation==0):\n",
    "            if (x+size>5):\n",
    "                print(\"ship is out of bounds\")\n",
    "                self.makeShip()\n",
    "            else: \n",
    "                for i in range(size):\n",
    "                    self.ship[y][x+i]=\"S\"\n",
    "                self.shipspots=self.shipspots+size\n",
    "        else:\n",
    "            if (y+size>5):\n",
    "                print(\"ship is out of bounds\")\n",
    "                self.makeShip()\n",
    "            else:\n",
    "                for i in range(size):\n",
    "                    self.ship[y+i][x]=\"S\"\n",
    "                self.shipspots=self.shipspots+size\n",
    "    def hitShip(self):\n",
    "        print(\"hit a ship:\")\n",
    "        x=input(\"input x:\")\n",
    "        while(x.isdigit()==False):\n",
    "            print(\"enter an integer value for x\")\n",
    "            x=input(\"input x:\")\n",
    "        x=int(x)\n",
    "        \n",
    "        y=input(\"input y:\")\n",
    "        while(y.isdigit()==False):\n",
    "            print(\"enter an integer value for y\")\n",
    "            y=input(\"input y:\")\n",
    "        y=int(y)\n",
    "        \n",
    "        if (self.board[x][y]!=\"O\"):\n",
    "            print(\"you've already guessed this spot\",\"\\n\")\n",
    "        else:\n",
    "            if (self.ship[x][y]==\"S\"):\n",
    "                print(\"hit ship at\",x,\".\",y,\"\\n\")\n",
    "                self.board[x][y]=\"X\"\n",
    "                self.shiphits=self.shiphits+1\n",
    "            else: \n",
    "                print(\"miss ship at\",x,\".\",y,\"\\n\")\n",
    "                self.board[x][y]=\"M\"\n",
    "        self.printBoard()\n",
    "        if (self.shipspots==self.shiphits):\n",
    "            print(\"you win! all ships have been hit\",\"\\n\",\"GAME OVER\")\n",
    "    def playGame(self):\n",
    "        battleship=Battleship()\n",
    "        self.makeBoard()\n",
    "        self.printBoard()\n",
    "        \n",
    "        a=int(input(\"enter how many ships you would like to make:\"))\n",
    "        for i in range(a):\n",
    "            self.makeShip()\n",
    "        \n",
    "        while(self.shipspots!=self.shiphits):\n",
    "            self.hitShip()\n",
    "            \n",
    "            \n",
    "            \n",
    "            \n",
    "             if (self.ship==\"S\"):\n",
    "            print(\"a ship already exists at this coordinate. please input new coordinates\")\n",
    "            self.makeShip()"
   ]
  },
  {
   "cell_type": "code",
   "execution_count": 2,
   "metadata": {},
   "outputs": [],
   "source": [
    "battleship=Battleship()"
   ]
  },
  {
   "cell_type": "code",
   "execution_count": null,
   "metadata": {},
   "outputs": [
    {
     "name": "stdout",
     "output_type": "stream",
     "text": [
      "['O', 'O', 'O', 'O', 'O']\n",
      "['O', 'O', 'O', 'O', 'O']\n",
      "['O', 'O', 'O', 'O', 'O']\n",
      "['O', 'O', 'O', 'O', 'O']\n",
      "['O', 'O', 'O', 'O', 'O']\n",
      "enter how many ships you would like to make:2\n",
      "make a ship:\n",
      "input x:1\n",
      "input y:1\n",
      "input size:1\n",
      "input orientation:0\n",
      "make a ship:\n",
      "input x:1\n",
      "input y:1\n",
      "input size:2\n",
      "input orientation:0\n",
      "hit a ship:\n"
     ]
    }
   ],
   "source": [
    "battleship.playGame()"
   ]
  },
  {
   "cell_type": "code",
   "execution_count": null,
   "metadata": {},
   "outputs": [],
   "source": []
  },
  {
   "cell_type": "code",
   "execution_count": null,
   "metadata": {},
   "outputs": [],
   "source": []
  },
  {
   "cell_type": "code",
   "execution_count": 7,
   "metadata": {},
   "outputs": [
    {
     "data": {
      "text/plain": [
       "1"
      ]
     },
     "execution_count": 7,
     "metadata": {},
     "output_type": "execute_result"
    }
   ],
   "source": [
    "battleship.shipspots"
   ]
  },
  {
   "cell_type": "code",
   "execution_count": 6,
   "metadata": {},
   "outputs": [
    {
     "name": "stdout",
     "output_type": "stream",
     "text": [
      "input x:2\n",
      "input y:2\n",
      "hit ship at 2 . 2 \n",
      "\n",
      "['O', 'O', 'O', 'O', 'O']\n",
      "['O', 'O', 'O', 'O', 'O']\n",
      "['O', 'O', 'X', 'O', 'O']\n",
      "['O', 'O', 'O', 'O', 'O']\n",
      "['O', 'O', 'O', 'O', 'O']\n"
     ]
    }
   ],
   "source": [
    "battleship.hitShip()"
   ]
  },
  {
   "cell_type": "code",
   "execution_count": 7,
   "metadata": {},
   "outputs": [
    {
     "name": "stdout",
     "output_type": "stream",
     "text": [
      "input x:3\n",
      "input y:1\n",
      "miss ship at 3 . 1 \n",
      "\n",
      "['O', 'O', 'O', 'O', 'O']\n",
      "['O', 'O', 'O', 'O', 'O']\n",
      "['O', 'O', 'X', 'O', 'O']\n",
      "['O', 'M', 'O', 'O', 'O']\n",
      "['O', 'O', 'O', 'O', 'O']\n"
     ]
    }
   ],
   "source": [
    "battleship.hitShip()"
   ]
  },
  {
   "cell_type": "code",
   "execution_count": 9,
   "metadata": {},
   "outputs": [
    {
     "name": "stdout",
     "output_type": "stream",
     "text": [
      "input x:2\n",
      "input y:3\n",
      "hit ship at 2 . 3 \n",
      "\n",
      "['O', 'O', 'O', 'O', 'O']\n",
      "['O', 'O', 'O', 'O', 'O']\n",
      "['O', 'O', 'X', 'X', 'O']\n",
      "['O', 'M', 'O', 'O', 'O']\n",
      "['O', 'O', 'O', 'O', 'O']\n"
     ]
    }
   ],
   "source": [
    "battleship.hitShip()"
   ]
  },
  {
   "cell_type": "code",
   "execution_count": 10,
   "metadata": {},
   "outputs": [
    {
     "name": "stdout",
     "output_type": "stream",
     "text": [
      "input x:3\n",
      "input y:1\n",
      "you've already guessed this spot \n",
      "\n",
      "['O', 'O', 'O', 'O', 'O']\n",
      "['O', 'O', 'O', 'O', 'O']\n",
      "['O', 'O', 'X', 'X', 'O']\n",
      "['O', 'M', 'O', 'O', 'O']\n",
      "['O', 'O', 'O', 'O', 'O']\n"
     ]
    }
   ],
   "source": [
    "battleship.hitShip()"
   ]
  },
  {
   "cell_type": "code",
   "execution_count": 80,
   "metadata": {},
   "outputs": [
    {
     "name": "stdout",
     "output_type": "stream",
     "text": [
      "['O', 'O', 'O', 'O', 'O']\n",
      "['O', 'O', 'O', 'O', 'O']\n",
      "['O', 'O', 'X', 'X', 'O']\n",
      "['O', 'O', 'O', 'O', 'O']\n",
      "['O', 'O', 'O', 'M', 'O']\n"
     ]
    }
   ],
   "source": [
    "battleship.printBoard()"
   ]
  },
  {
   "cell_type": "code",
   "execution_count": 81,
   "metadata": {},
   "outputs": [
    {
     "data": {
      "text/plain": [
       "2"
      ]
     },
     "execution_count": 81,
     "metadata": {},
     "output_type": "execute_result"
    }
   ],
   "source": [
    "battleship.shiphits"
   ]
  },
  {
   "cell_type": "code",
   "execution_count": 82,
   "metadata": {},
   "outputs": [
    {
     "name": "stdout",
     "output_type": "stream",
     "text": [
      "hit ship at 1 . 3 \n",
      "\n",
      "['O', 'O', 'O', 'O', 'O']\n",
      "['O', 'O', 'O', 'X', 'O']\n",
      "['O', 'O', 'X', 'X', 'O']\n",
      "['O', 'O', 'O', 'O', 'O']\n",
      "['O', 'O', 'O', 'M', 'O']\n"
     ]
    }
   ],
   "source": [
    "battleship.hitShip(1,3)\n",
    "battleship.printBoard()"
   ]
  },
  {
   "cell_type": "code",
   "execution_count": 84,
   "metadata": {},
   "outputs": [
    {
     "data": {
      "text/plain": [
       "3"
      ]
     },
     "execution_count": 84,
     "metadata": {},
     "output_type": "execute_result"
    }
   ],
   "source": [
    "battleship.shiphits"
   ]
  },
  {
   "cell_type": "code",
   "execution_count": 40,
   "metadata": {},
   "outputs": [
    {
     "name": "stdout",
     "output_type": "stream",
     "text": [
      "miss ship at 3 . 2 \n",
      "\n",
      "['O', 'M', 'O', 'O', 'O']\n",
      "['O', 'O', 'O', 'O', 'O']\n",
      "['O', 'O', 'O', 'O', 'O']\n",
      "['O', 'O', 'M', 'M', 'O']\n",
      "['O', 'O', 'O', 'M', 'O']\n"
     ]
    }
   ],
   "source": [
    "battleship.hitShip(3,2)\n",
    "battleship.printBoard()"
   ]
  },
  {
   "cell_type": "code",
   "execution_count": 41,
   "metadata": {},
   "outputs": [
    {
     "name": "stdout",
     "output_type": "stream",
     "text": [
      "['O', 'O', 'O', 'O', 'O']\n",
      "['O', 'O', 'O', 'O', 'O']\n",
      "['O', 'S', 'S', 'S', 'O']\n",
      "['O', 'O', 'O', 'O', 'O']\n",
      "['O', 'O', 'O', 'S', 'O']\n"
     ]
    }
   ],
   "source": [
    "battleship.printShip()"
   ]
  },
  {
   "cell_type": "code",
   "execution_count": 45,
   "metadata": {},
   "outputs": [
    {
     "name": "stdout",
     "output_type": "stream",
     "text": [
      "miss ship at 3 . 2 \n",
      "\n",
      "['O', 'M', 'O', 'O', 'O']\n",
      "['O', 'O', 'O', 'O', 'O']\n",
      "['O', 'O', 'O', 'O', 'O']\n",
      "['O', 'O', 'M', 'M', 'O']\n",
      "['O', 'O', 'O', 'M', 'O']\n"
     ]
    }
   ],
   "source": [
    "battleship.hitShip(3,2)\n",
    "battleship.printBoard()"
   ]
  },
  {
   "cell_type": "code",
   "execution_count": 182,
   "metadata": {},
   "outputs": [
    {
     "name": "stdout",
     "output_type": "stream",
     "text": [
      "1\n",
      "5\n",
      "3\n",
      "1\n",
      "4\n"
     ]
    }
   ],
   "source": [
    "import random\n",
    "\n",
    "for i in range(5):\n",
    "    print(random.randint(1,5))"
   ]
  },
  {
   "cell_type": "code",
   "execution_count": 195,
   "metadata": {},
   "outputs": [],
   "source": []
  },
  {
   "cell_type": "code",
   "execution_count": 9,
   "metadata": {},
   "outputs": [
    {
     "name": "stdout",
     "output_type": "stream",
     "text": [
      "miss ship at 3 . 3 \n",
      "\n",
      "['O', 'M', 'O', 'O', 'O']\n",
      "['O', 'O', 'O', 'O', 'O']\n",
      "['O', 'O', 'O', 'O', 'O']\n",
      "['O', 'O', 'M', 'M', 'O']\n",
      "['O', 'O', 'O', 'O', 'O']\n"
     ]
    }
   ],
   "source": [
    "battleship.hitShip(3,3)\n",
    "battleship.printBoard()"
   ]
  },
  {
   "cell_type": "code",
   "execution_count": 11,
   "metadata": {},
   "outputs": [
    {
     "name": "stdout",
     "output_type": "stream",
     "text": [
      "miss ship at 0 . 0 \n",
      "\n",
      "['M', 'M', 'O', 'O', 'O']\n",
      "['O', 'O', 'O', 'O', 'O']\n",
      "['O', 'O', 'O', 'O', 'O']\n",
      "['O', 'O', 'M', 'M', 'O']\n",
      "['M', 'O', 'O', 'O', 'O']\n"
     ]
    }
   ],
   "source": [
    "battleship.hitShip(0,0)\n",
    "battleship.printBoard()"
   ]
  },
  {
   "cell_type": "code",
   "execution_count": 12,
   "metadata": {},
   "outputs": [
    {
     "name": "stdout",
     "output_type": "stream",
     "text": [
      "miss ship at 4 . 0 \n",
      "\n",
      "['M', 'M', 'O', 'O', 'O']\n",
      "['O', 'O', 'O', 'O', 'O']\n",
      "['O', 'O', 'O', 'O', 'O']\n",
      "['O', 'O', 'M', 'M', 'O']\n",
      "['M', 'O', 'O', 'O', 'O']\n"
     ]
    }
   ],
   "source": [
    "battleship.hitShip(4,0)\n",
    "battleship.printBoard()"
   ]
  },
  {
   "cell_type": "code",
   "execution_count": 13,
   "metadata": {},
   "outputs": [
    {
     "name": "stdout",
     "output_type": "stream",
     "text": [
      "miss ship at 1 . 1 \n",
      "\n",
      "['M', 'M', 'O', 'O', 'O']\n",
      "['O', 'M', 'O', 'O', 'O']\n",
      "['O', 'O', 'O', 'O', 'O']\n",
      "['O', 'O', 'M', 'M', 'O']\n",
      "['M', 'O', 'O', 'O', 'O']\n"
     ]
    }
   ],
   "source": [
    "battleship.hitShip(1,1)\n",
    "battleship.printBoard()"
   ]
  },
  {
   "cell_type": "code",
   "execution_count": 14,
   "metadata": {},
   "outputs": [
    {
     "name": "stdout",
     "output_type": "stream",
     "text": [
      "ship is out of bounds\n"
     ]
    }
   ],
   "source": [
    "battleship.makeShip(2,0,4,4)"
   ]
  },
  {
   "cell_type": "code",
   "execution_count": 15,
   "metadata": {},
   "outputs": [
    {
     "name": "stdout",
     "output_type": "stream",
     "text": [
      "['M', 'M', 'O', 'O', 'O']\n",
      "['O', 'M', 'O', 'O', 'O']\n",
      "['O', 'O', 'O', 'O', 'O']\n",
      "['O', 'O', 'M', 'M', 'O']\n",
      "['M', 'O', 'O', 'O', 'O']\n"
     ]
    }
   ],
   "source": [
    "battleship.printBoard()"
   ]
  },
  {
   "cell_type": "code",
   "execution_count": 16,
   "metadata": {},
   "outputs": [
    {
     "name": "stdout",
     "output_type": "stream",
     "text": [
      "['S', 'S', 'O', 'O', 'O']\n",
      "['O', 'S', 'S', 'O', 'O']\n",
      "['O', 'O', 'O', 'S', 'S']\n",
      "['O', 'O', 'O', 'S', 'S']\n",
      "['O', 'O', 'O', 'O', 'S']\n"
     ]
    }
   ],
   "source": [
    "battleship.printShip()"
   ]
  },
  {
   "cell_type": "code",
   "execution_count": null,
   "metadata": {},
   "outputs": [],
   "source": []
  },
  {
   "cell_type": "code",
   "execution_count": null,
   "metadata": {},
   "outputs": [],
   "source": []
  },
  {
   "cell_type": "code",
   "execution_count": null,
   "metadata": {},
   "outputs": [],
   "source": []
  },
  {
   "cell_type": "code",
   "execution_count": null,
   "metadata": {},
   "outputs": [],
   "source": []
  },
  {
   "cell_type": "code",
   "execution_count": 194,
   "metadata": {},
   "outputs": [],
   "source": [
    "class Battleship(object):\n",
    "    def __init__(self):\n",
    "        self.board=[]\n",
    "        self.row=5\n",
    "        self.column=5\n",
    "        self.board2=[]\n",
    "    def makeBoard(self):\n",
    "        for i in range(0,self.row):\n",
    "            self.board.append([])\n",
    "            for j in range(0,self.column):\n",
    "                self.board[i].append(\"O\")\n",
    "    def printBoard(self):\n",
    "        for i in range(0,self.row):\n",
    "            print(self.board[i])\n",
    "    def changeBoard(self,x,y):\n",
    "        self.board[x][y]=\"X\"\n",
    "    def makeShip(self,size,orientation,x,y):   \n",
    "        self.board[x][y]=\"S\"\n",
    "        if (orientation==0):\n",
    "              for i in range(size):\n",
    "                    self.board[y][x+i]=\"S\"\n",
    "        else: self.board[x][y+i]=\"X\"\n",
    "    def hitShip(self,x,y):\n",
    "        if (self.board[x][y]==\"S\"):\n",
    "            print(\"--------\")\n",
    "            print(\"hit ship\")\n",
    "    def makeBoard2(self):\n",
    "         for i in range(0,self.row):\n",
    "            self.board2.append([])\n",
    "            for j in range(0,self.column):\n",
    "                self.board2[i].append(\"O\")\n",
    "    def printBoard2(self):\n",
    "        for i in range(0,self.row):\n",
    "            print(self.board2[i])\n",
    "    def changeBoard2(self,x,y):\n",
    "        self.board2[x][y]=\"S\"\n",
    "    def makeShip2(self,size,orientation,x,y):   \n",
    "        self.board2[x][y]=\"S\"\n",
    "        if (orientation==0):\n",
    "              for i in range(size):\n",
    "                    self.board2[y][x+i]=\"S\"\n",
    "        else: self.board2[x][y+i]=\"X\"\n",
    "    def hitShip2(self,x,y):\n",
    "        if (self.board2[x][y]==\"S\"):\n",
    "            print(\"---------\")\n",
    "            print(\"hit ship\")\n",
    "            \n",
    "            \n",
    "            when allthe ships are hit - when u win\n",
    "            continuous guessing until win"
   ]
  },
  {
   "cell_type": "code",
   "execution_count": 26,
   "metadata": {},
   "outputs": [
    {
     "name": "stdout",
     "output_type": "stream",
     "text": [
      "['O', 'O', 'O', 'O', 'O']\n",
      "['O', 'O', 'O', 'O', 'O']\n",
      "['O', 'O', 'O', 'O', 'O']\n",
      "['O', 'O', 'O', 'O', 'O']\n",
      "['O', 'O', 'O', 'O', 'O']\n"
     ]
    }
   ],
   "source": [
    "battleship.makeBoard2()\n",
    "battleship.printBoard2()"
   ]
  },
  {
   "cell_type": "code",
   "execution_count": 27,
   "metadata": {
    "scrolled": true
   },
   "outputs": [
    {
     "name": "stdout",
     "output_type": "stream",
     "text": [
      "0\n",
      "1\n",
      "2\n",
      "3\n",
      "4\n"
     ]
    }
   ],
   "source": [
    "b=0\n",
    "while(b<5):\n",
    "    print(b)\n",
    "    b=b+1"
   ]
  },
  {
   "cell_type": "code",
   "execution_count": 3,
   "metadata": {},
   "outputs": [
    {
     "name": "stdout",
     "output_type": "stream",
     "text": [
      "0\n",
      "1\n",
      "1\n",
      "2\n",
      "3\n",
      "5\n",
      "8\n",
      "13\n",
      "21\n",
      "34\n",
      "55\n",
      "89\n"
     ]
    }
   ],
   "source": [
    "b=0\n",
    "c=1\n",
    "d=0\n",
    "while(b<=100):\n",
    "    print(b)\n",
    "    d=c\n",
    "    c=b+c\n",
    "    b=d"
   ]
  },
  {
   "cell_type": "code",
   "execution_count": 4,
   "metadata": {},
   "outputs": [
    {
     "name": "stdout",
     "output_type": "stream",
     "text": [
      "0\n",
      "1\n",
      "1\n",
      "2\n",
      "3\n",
      "5\n",
      "8\n",
      "13\n"
     ]
    }
   ],
   "source": [
    "b=0\n",
    "c=1\n",
    "d=0\n",
    "while(b!=21):\n",
    "    print(b)\n",
    "    d=c\n",
    "    c=b+c\n",
    "    b=d"
   ]
  },
  {
   "cell_type": "code",
   "execution_count": 3,
   "metadata": {},
   "outputs": [
    {
     "name": "stdout",
     "output_type": "stream",
     "text": [
      "0\n",
      "1\n",
      "1\n"
     ]
    }
   ],
   "source": [
    "b=0\n",
    "c=1\n",
    "d=0\n",
    "while(b%3!=2):\n",
    "    print(b)\n",
    "    d=c\n",
    "    c=b+c\n",
    "    b=d"
   ]
  },
  {
   "cell_type": "code",
   "execution_count": null,
   "metadata": {},
   "outputs": [],
   "source": []
  }
 ],
 "metadata": {
  "kernelspec": {
   "display_name": "Python 3",
   "language": "python",
   "name": "python3"
  },
  "language_info": {
   "codemirror_mode": {
    "name": "ipython",
    "version": 3
   },
   "file_extension": ".py",
   "mimetype": "text/x-python",
   "name": "python",
   "nbconvert_exporter": "python",
   "pygments_lexer": "ipython3",
   "version": "3.6.5"
  }
 },
 "nbformat": 4,
 "nbformat_minor": 2
}
